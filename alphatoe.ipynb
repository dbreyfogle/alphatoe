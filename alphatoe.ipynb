{
 "cells": [
  {
   "cell_type": "markdown",
   "metadata": {},
   "source": [
    "# AlphaToe: Q-Learning practice"
   ]
  },
  {
   "cell_type": "code",
   "execution_count": 39,
   "metadata": {},
   "outputs": [],
   "source": [
    "import numpy as np\n",
    "import random\n",
    "import math\n",
    "import pickle"
   ]
  },
  {
   "cell_type": "code",
   "execution_count": 40,
   "metadata": {},
   "outputs": [],
   "source": [
    "class Environment():\n",
    "    \"\"\"A tic-tac-toe board in RL terms\"\"\"\n",
    "\n",
    "    def __init__(self):\n",
    "        \"\"\"Setup a 3 x 3 board as an array: 1 ~ X, -1 ~ O, 0 ~ empty\"\"\"\n",
    "        self.state = np.zeros((3, 3))\n",
    "\n",
    "    def reset(self):\n",
    "        \"\"\"Resets to empty\"\"\"\n",
    "        self.state = np.zeros((3, 3))\n",
    "\n",
    "    def get_state(self):\n",
    "        \"\"\"Get the current state\"\"\"\n",
    "        return self.state\n",
    "\n",
    "    def display(self):\n",
    "        \"\"\"\n",
    "            0   1   2\n",
    "          *---*---*---*\n",
    "        0 | X | O | X |\n",
    "          *---*---*---*\n",
    "        1 |   | X | O |\n",
    "          *---*---*---*\n",
    "        2 | X |   | O |\n",
    "          *---*---*---*\n",
    "        \"\"\"\n",
    "        to_txt = {0: ' ', 1: 'X', -1: 'O'}\n",
    "        print('    0   1   2')\n",
    "        print('  *---*---*---*')\n",
    "        for row in range(3):\n",
    "            row_str = '{} | '.format(row)\n",
    "            for col in range(3):\n",
    "                mark = self.state[row, col]\n",
    "                row_str += '{} | '.format(to_txt[mark])\n",
    "            print(row_str)\n",
    "            print('  *---*---*---*')\n",
    "\n",
    "    def get_actions(self, mark):\n",
    "        \"\"\"A list of actions that the player can take, i.e. empty spaces (row, col, mark)\"\"\"\n",
    "        assert mark in [1, -1], 'Invalid mark'\n",
    "        actions = []\n",
    "        for row in range(3):\n",
    "            for col in range(3):\n",
    "                if self.state[row, col] == 0:\n",
    "                    actions.append((row, col, mark))\n",
    "        return actions\n",
    "\n",
    "    def get_rewards(self, mark):\n",
    "        \"\"\"Return rewards for the player in the current state\"\"\"\n",
    "        assert mark in [1, -1], 'Invalid mark'\n",
    "        goal = 3 * mark\n",
    "        for i in range(3):\n",
    "            row_sum = np.sum(self.state[i, :])\n",
    "            col_sum = np.sum(self.state[:, i])\n",
    "            if row_sum == goal or col_sum == goal: return 1\n",
    "            if row_sum == -goal or col_sum == -goal: return -1\n",
    "        diag1_sum = np.trace(self.state)\n",
    "        diag2_sum = np.trace(np.fliplr(self.state))\n",
    "        if diag1_sum == goal or diag2_sum == goal: return 1\n",
    "        if diag1_sum == -goal or diag2_sum == -goal: return -1\n",
    "        return 0\n",
    "\n",
    "    def step(self, action):\n",
    "        \"\"\"Perform an action and return the new state and rewards\"\"\"\n",
    "        row, col, mark = action[0], action[1], action[2]\n",
    "        assert self.state[row, col] == 0, 'Invalid space'\n",
    "        assert mark in [1, -1], 'Invalid mark'\n",
    "        self.state[row, col] = mark\n",
    "        reward = self.get_rewards(mark)\n",
    "        return self.state, reward\n",
    "    \n",
    "    def is_full(self):\n",
    "        \"\"\"Checks if the board is full\"\"\"\n",
    "        for row in range(3):\n",
    "            for col in range(3):\n",
    "                if self.state[row, col] == 0: # Any empty space\n",
    "                    return False\n",
    "        return True\n",
    "\n",
    "    def is_done(self):\n",
    "        \"\"\"Check if the game is finished\"\"\"\n",
    "        return self.get_rewards(1) or self.is_full()"
   ]
  },
  {
   "cell_type": "code",
   "execution_count": 41,
   "metadata": {},
   "outputs": [],
   "source": [
    "class Agent():\n",
    "    \"\"\"AlphaToe Q-Learning agent\"\"\"\n",
    "\n",
    "    def __init__(self, mark):\n",
    "        \"\"\"Setup an agent and assign it X or O\"\"\"\n",
    "        self.Q = {} # States, actions, q-values\n",
    "        self.m = mark\n",
    "        self.s = np.zeros((3, 3))\n",
    "        self.s_prev = np.zeros((3, 3)) # Previous state\n",
    "        self.a = None # Previous action\n",
    "\n",
    "    def reset(self):\n",
    "        \"\"\"Reset to a new game\"\"\"\n",
    "        self.s = np.zeros((3, 3))\n",
    "        self.s_prev = np.zeros((3, 3))\n",
    "        self.a = None\n",
    "\n",
    "    def save_model(self, path):\n",
    "        \"\"\"Save the model to a file at the chosen path\"\"\"\n",
    "        with open(path, 'wb') as fp:\n",
    "            pickle.dump(self.Q, fp, protocol=pickle.HIGHEST_PROTOCOL)\n",
    "\n",
    "    def load_model(self, path):\n",
    "        \"\"\"Load a model from a file at the path\"\"\"\n",
    "        with open(path, 'rb') as fp:\n",
    "            self.Q = pickle.load(fp)\n",
    "\n",
    "    def get_mark(self):\n",
    "        \"\"\"Get the X/O mark\"\"\"\n",
    "        return self.m\n",
    "\n",
    "    def set_mark(self, mark):\n",
    "        \"\"\"Set X or O\"\"\"\n",
    "        self.m = mark\n",
    "\n",
    "    def evaluate(self, state=None):\n",
    "        \"\"\"Return Q(s). Filter out unavailable actions\"\"\"\n",
    "        if state is None: state = self.s\n",
    "        s = tuple(state.flatten())\n",
    "        try: Q_s = {a: q for a, q in self.Q[s].items() if a[2] == self.m}\n",
    "        except: Q_s = {} # Not seen\n",
    "        return Q_s\n",
    "\n",
    "    def act(self, env, e=0.2):\n",
    "        \"\"\"Take an action in the Environment and return rewards. Random actions are taken e percent of the time\"\"\"\n",
    "        self.s[:] = env.get_state()\n",
    "        actions = env.get_actions(self.m)\n",
    "        a = random.choice(actions) # Explore\n",
    "        if e < random.uniform(0, 1):\n",
    "            Q_s = self.evaluate()\n",
    "            if Q_s and max(Q_s.values()) > 0:\n",
    "                a = max(Q_s, key=Q_s.get) # Enhance\n",
    "        s1, r = env.step(a)\n",
    "        s = tuple(self.s.flatten())\n",
    "        if s not in self.Q: self.Q[s] = {}\n",
    "        if a not in self.Q[s]: self.Q[s].update({a: 0})\n",
    "        self.s_prev[:], self.s[:], self.a = self.s, s1, a\n",
    "        return r\n",
    "\n",
    "    def observe(self, r, lr=0.3, y=0.5):\n",
    "        \"\"\"Observe rewards and update Q for the previous state and action\"\"\"\n",
    "        if self.a is None: return # Nothing to observe\n",
    "        s = tuple(self.s_prev.flatten())\n",
    "        q, q1 = self.Q[s][self.a], 0\n",
    "        Q_s1 = self.evaluate(self.s)\n",
    "        if Q_s1: q1 = max(Q_s1.values())\n",
    "        self.Q[s][self.a] = q + lr * (r + (y * q1) - q)"
   ]
  },
  {
   "cell_type": "code",
   "execution_count": 42,
   "metadata": {},
   "outputs": [],
   "source": [
    "class Human():\n",
    "    \"\"\"For playing against AlphaToe\"\"\"\n",
    "\n",
    "    def __init__(self, mark):\n",
    "        \"\"\"Assign X/O\"\"\"\n",
    "        self.m = mark\n",
    "\n",
    "    def act(self, env):\n",
    "        \"\"\"Ask for the next move and update the Environment\"\"\"\n",
    "        env.display()\n",
    "        print('Your turn:')\n",
    "        valid = False\n",
    "        while not valid:\n",
    "            row = int(input('Row #: '))\n",
    "            col = int(input('Column #: '))\n",
    "            try:\n",
    "                if env.get_state()[row, col] == 0: # Must exist and be empty\n",
    "                    valid = True\n",
    "            except:\n",
    "                print('Sorry, that spot is unavailable. Try again:')\n",
    "        _, r = env.step((row, col, self.m))\n",
    "        return r"
   ]
  },
  {
   "cell_type": "code",
   "execution_count": 44,
   "metadata": {},
   "outputs": [
    {
     "name": "stdout",
     "output_type": "stream",
     "text": [
      "lr 0.3306565869187103\n",
      "e 0.19128844548653198\n"
     ]
    }
   ],
   "source": [
    "i = 5000\n",
    "print('lr', 0.7 * math.exp(-1.5e-4 * i))\n",
    "print('e', 0.3 * math.exp(-9e-5 * i))"
   ]
  },
  {
   "cell_type": "code",
   "execution_count": 45,
   "metadata": {},
   "outputs": [
    {
     "name": "stdout",
     "output_type": "stream",
     "text": [
      "On run 1999\n",
      "On run 3999\n",
      "On run 5999\n",
      "On run 7999\n",
      "On run 9999\n",
      "On run 11999\n",
      "On run 13999\n",
      "On run 15999\n",
      "On run 17999\n",
      "On run 19999\n",
      "a1 wins: 9591, a2 wins: 9007, ties: 1402\n"
     ]
    }
   ],
   "source": [
    "n_games = 20000\n",
    "env = Environment()\n",
    "a1 = Agent(1)\n",
    "a2 = Agent(-1)\n",
    "a1_wins, a2_wins = 0, 0\n",
    "for i in range(n_games):\n",
    "    if (i + 1) % 2000 == 0: print('On run ' + str(i))\n",
    "    lr = 0.7 * math.exp(-1.5e-4 * i)\n",
    "    e = 0.3 * math.exp(-9e-5 * i)\n",
    "    if a1_wins <= a2_wins:\n",
    "        while True:\n",
    "            a1.observe(a1.act(env, e), lr)\n",
    "            a2.observe(env.get_rewards(a2.get_mark()), lr)\n",
    "            if env.is_done():\n",
    "                if env.get_rewards(1): a1_wins += 1\n",
    "                env.reset()\n",
    "                a1.reset()\n",
    "                a2.reset()\n",
    "                break\n",
    "            a2.observe(a2.act(env, e), lr)\n",
    "            a1.observe(env.get_rewards(a1.get_mark()), lr)\n",
    "            if env.is_done():\n",
    "                if env.get_rewards(1): a2_wins += 1\n",
    "                env.reset()\n",
    "                a1.reset()\n",
    "                a2.reset()\n",
    "                break\n",
    "    elif a1_wins > a2_wins:\n",
    "        while True:\n",
    "            a2.observe(a2.act(env, e), lr)\n",
    "            a1.observe(env.get_rewards(a1.get_mark()), lr)\n",
    "            if env.is_done():\n",
    "                if env.get_rewards(1): a2_wins += 1\n",
    "                env.reset()\n",
    "                a1.reset()\n",
    "                a2.reset()\n",
    "                break\n",
    "            a1.observe(a1.act(env, e), lr)\n",
    "            a2.observe(env.get_rewards(a2.get_mark()), lr)\n",
    "            if env.is_done():\n",
    "                if env.get_rewards(1): a1_wins += 1\n",
    "                env.reset()\n",
    "                a1.reset()\n",
    "                a2.reset()\n",
    "                break\n",
    "print('a1 wins: {}, a2 wins: {}, ties: {}'.format(a1_wins, a2_wins, n_games - (a1_wins + a2_wins)))"
   ]
  },
  {
   "cell_type": "code",
   "execution_count": 46,
   "metadata": {},
   "outputs": [],
   "source": [
    "a1.save_model('model.pkl')\n",
    "atoe = Agent(1)\n",
    "atoe.load_model('model.pkl')"
   ]
  },
  {
   "cell_type": "code",
   "execution_count": 47,
   "metadata": {},
   "outputs": [
    {
     "name": "stdout",
     "output_type": "stream",
     "text": [
      "    0   1   2\n",
      "  *---*---*---*\n",
      "0 |   |   |   | \n",
      "  *---*---*---*\n",
      "1 |   |   |   | \n",
      "  *---*---*---*\n",
      "2 |   | X |   | \n",
      "  *---*---*---*\n",
      "Your turn:\n"
     ]
    },
    {
     "name": "stdin",
     "output_type": "stream",
     "text": [
      "Row #:  1\n",
      "Column #:  1\n"
     ]
    },
    {
     "name": "stdout",
     "output_type": "stream",
     "text": [
      "    0   1   2\n",
      "  *---*---*---*\n",
      "0 |   |   |   | \n",
      "  *---*---*---*\n",
      "1 |   | O |   | \n",
      "  *---*---*---*\n",
      "2 | X | X |   | \n",
      "  *---*---*---*\n",
      "Your turn:\n"
     ]
    },
    {
     "name": "stdin",
     "output_type": "stream",
     "text": [
      "Row #:  2\n",
      "Column #:  2\n"
     ]
    },
    {
     "name": "stdout",
     "output_type": "stream",
     "text": [
      "    0   1   2\n",
      "  *---*---*---*\n",
      "0 |   |   |   | \n",
      "  *---*---*---*\n",
      "1 | X | O |   | \n",
      "  *---*---*---*\n",
      "2 | X | X | O | \n",
      "  *---*---*---*\n",
      "Your turn:\n"
     ]
    },
    {
     "name": "stdin",
     "output_type": "stream",
     "text": [
      "Row #:  0\n",
      "Column #:  0\n"
     ]
    },
    {
     "name": "stdout",
     "output_type": "stream",
     "text": [
      "    0   1   2\n",
      "  *---*---*---*\n",
      "0 | O |   |   | \n",
      "  *---*---*---*\n",
      "1 | X | O |   | \n",
      "  *---*---*---*\n",
      "2 | X | X | O | \n",
      "  *---*---*---*\n",
      "You won\n",
      "    0   1   2\n",
      "  *---*---*---*\n",
      "0 |   |   |   | \n",
      "  *---*---*---*\n",
      "1 |   | X |   | \n",
      "  *---*---*---*\n",
      "2 |   |   |   | \n",
      "  *---*---*---*\n",
      "Your turn:\n"
     ]
    },
    {
     "name": "stdin",
     "output_type": "stream",
     "text": [
      "Row #:  1\n",
      "Column #:  0\n"
     ]
    },
    {
     "name": "stdout",
     "output_type": "stream",
     "text": [
      "    0   1   2\n",
      "  *---*---*---*\n",
      "0 |   |   |   | \n",
      "  *---*---*---*\n",
      "1 | O | X |   | \n",
      "  *---*---*---*\n",
      "2 | X |   |   | \n",
      "  *---*---*---*\n",
      "Your turn:\n"
     ]
    },
    {
     "name": "stdin",
     "output_type": "stream",
     "text": [
      "Row #:  0\n",
      "Column #:  2\n"
     ]
    },
    {
     "name": "stdout",
     "output_type": "stream",
     "text": [
      "    0   1   2\n",
      "  *---*---*---*\n",
      "0 |   |   | O | \n",
      "  *---*---*---*\n",
      "1 | O | X |   | \n",
      "  *---*---*---*\n",
      "2 | X | X |   | \n",
      "  *---*---*---*\n",
      "Your turn:\n"
     ]
    },
    {
     "name": "stdin",
     "output_type": "stream",
     "text": [
      "Row #:  2\n",
      "Column #:  2\n"
     ]
    },
    {
     "name": "stdout",
     "output_type": "stream",
     "text": [
      "    0   1   2\n",
      "  *---*---*---*\n",
      "0 | X |   | O | \n",
      "  *---*---*---*\n",
      "1 | O | X |   | \n",
      "  *---*---*---*\n",
      "2 | X | X | O | \n",
      "  *---*---*---*\n",
      "Your turn:\n"
     ]
    },
    {
     "name": "stdin",
     "output_type": "stream",
     "text": [
      "Row #:  \n"
     ]
    },
    {
     "ename": "ValueError",
     "evalue": "invalid literal for int() with base 10: ''",
     "output_type": "error",
     "traceback": [
      "\u001b[0;31m---------------------------------------------------------------------------\u001b[0m",
      "\u001b[0;31mValueError\u001b[0m                                Traceback (most recent call last)",
      "\u001b[0;32m<ipython-input-47-a2f4b5823dd8>\u001b[0m in \u001b[0;36m<module>\u001b[0;34m\u001b[0m\n\u001b[1;32m     15\u001b[0m             \u001b[0matoe\u001b[0m\u001b[0;34m.\u001b[0m\u001b[0mreset\u001b[0m\u001b[0;34m(\u001b[0m\u001b[0;34m)\u001b[0m\u001b[0;34m\u001b[0m\u001b[0;34m\u001b[0m\u001b[0m\n\u001b[1;32m     16\u001b[0m             \u001b[0;32mbreak\u001b[0m\u001b[0;34m\u001b[0m\u001b[0;34m\u001b[0m\u001b[0m\n\u001b[0;32m---> 17\u001b[0;31m         \u001b[0matoe\u001b[0m\u001b[0;34m.\u001b[0m\u001b[0mobserve\u001b[0m\u001b[0;34m(\u001b[0m\u001b[0;34m-\u001b[0m\u001b[0mme\u001b[0m\u001b[0;34m.\u001b[0m\u001b[0mact\u001b[0m\u001b[0;34m(\u001b[0m\u001b[0menv\u001b[0m\u001b[0;34m)\u001b[0m\u001b[0;34m,\u001b[0m \u001b[0mlr\u001b[0m\u001b[0;34m=\u001b[0m\u001b[0;36m0.2\u001b[0m\u001b[0;34m)\u001b[0m\u001b[0;34m\u001b[0m\u001b[0;34m\u001b[0m\u001b[0m\n\u001b[0m\u001b[1;32m     18\u001b[0m         \u001b[0;32mif\u001b[0m \u001b[0menv\u001b[0m\u001b[0;34m.\u001b[0m\u001b[0mis_done\u001b[0m\u001b[0;34m(\u001b[0m\u001b[0;34m)\u001b[0m\u001b[0;34m:\u001b[0m\u001b[0;34m\u001b[0m\u001b[0;34m\u001b[0m\u001b[0m\n\u001b[1;32m     19\u001b[0m             \u001b[0menv\u001b[0m\u001b[0;34m.\u001b[0m\u001b[0mdisplay\u001b[0m\u001b[0;34m(\u001b[0m\u001b[0;34m)\u001b[0m\u001b[0;34m\u001b[0m\u001b[0;34m\u001b[0m\u001b[0m\n",
      "\u001b[0;32m<ipython-input-42-6590f67441c8>\u001b[0m in \u001b[0;36mact\u001b[0;34m(self, env)\u001b[0m\n\u001b[1;32m     12\u001b[0m         \u001b[0mvalid\u001b[0m \u001b[0;34m=\u001b[0m \u001b[0;32mFalse\u001b[0m\u001b[0;34m\u001b[0m\u001b[0;34m\u001b[0m\u001b[0m\n\u001b[1;32m     13\u001b[0m         \u001b[0;32mwhile\u001b[0m \u001b[0;32mnot\u001b[0m \u001b[0mvalid\u001b[0m\u001b[0;34m:\u001b[0m\u001b[0;34m\u001b[0m\u001b[0;34m\u001b[0m\u001b[0m\n\u001b[0;32m---> 14\u001b[0;31m             \u001b[0mrow\u001b[0m \u001b[0;34m=\u001b[0m \u001b[0mint\u001b[0m\u001b[0;34m(\u001b[0m\u001b[0minput\u001b[0m\u001b[0;34m(\u001b[0m\u001b[0;34m'Row #: '\u001b[0m\u001b[0;34m)\u001b[0m\u001b[0;34m)\u001b[0m\u001b[0;34m\u001b[0m\u001b[0;34m\u001b[0m\u001b[0m\n\u001b[0m\u001b[1;32m     15\u001b[0m             \u001b[0mcol\u001b[0m \u001b[0;34m=\u001b[0m \u001b[0mint\u001b[0m\u001b[0;34m(\u001b[0m\u001b[0minput\u001b[0m\u001b[0;34m(\u001b[0m\u001b[0;34m'Column #: '\u001b[0m\u001b[0;34m)\u001b[0m\u001b[0;34m)\u001b[0m\u001b[0;34m\u001b[0m\u001b[0;34m\u001b[0m\u001b[0m\n\u001b[1;32m     16\u001b[0m             \u001b[0;32mtry\u001b[0m\u001b[0;34m:\u001b[0m\u001b[0;34m\u001b[0m\u001b[0;34m\u001b[0m\u001b[0m\n",
      "\u001b[0;31mValueError\u001b[0m: invalid literal for int() with base 10: ''"
     ]
    }
   ],
   "source": [
    "n_games = 3\n",
    "env = Environment()\n",
    "me = Human(-1)\n",
    "atoe_wins, your_wins = 0, 0\n",
    "for i in range(n_games):\n",
    "    while True:\n",
    "        atoe.observe(atoe.act(env, e=0), lr=0.2)\n",
    "        if env.is_done():\n",
    "            env.display()\n",
    "            if env.get_rewards(1):\n",
    "                print('AlphaToe won')\n",
    "                atoe_wins += 1\n",
    "            else: print('Tie game')\n",
    "            env.reset()\n",
    "            atoe.reset()\n",
    "            break\n",
    "        atoe.observe(-me.act(env), lr=0.2)\n",
    "        if env.is_done():\n",
    "            env.display()\n",
    "            if env.get_rewards(1):\n",
    "                print('You won')\n",
    "                your_wins += 1\n",
    "            else: print('Tie game')\n",
    "            env.reset()\n",
    "            atoe.reset()\n",
    "            break\n",
    "print('Your wins: {}, alphatoe wins: {}, ties: {}'.format(your_wins, atoe_wins, (n_games - (atoe_wins + your_wins))))"
   ]
  },
  {
   "cell_type": "code",
   "execution_count": 21,
   "metadata": {},
   "outputs": [
    {
     "data": {
      "text/plain": [
       "{(0, 1, 1): -0.533014580044117, (2, 2, 1): 0.6844562361215317}"
      ]
     },
     "execution_count": 21,
     "metadata": {},
     "output_type": "execute_result"
    }
   ],
   "source": [
    "state = np.array(( -1, 0, 1, \\\n",
    "                  -1, -1, 1, \\\n",
    "                  1, 0, 0)).reshape((3,3))\n",
    "atoe.evaluate(state)"
   ]
  },
  {
   "cell_type": "code",
   "execution_count": 49,
   "metadata": {},
   "outputs": [
    {
     "data": {
      "text/plain": [
       "{(0, 0, 1): 0.0}"
      ]
     },
     "execution_count": 49,
     "metadata": {},
     "output_type": "execute_result"
    }
   ],
   "source": [
    "atoe.evaluate(atoe.s_prev)"
   ]
  },
  {
   "cell_type": "code",
   "execution_count": 50,
   "metadata": {},
   "outputs": [
    {
     "data": {
      "text/plain": [
       "array([[ 0.,  0., -1.],\n",
       "       [-1.,  1.,  0.],\n",
       "       [ 1.,  1., -1.]])"
      ]
     },
     "execution_count": 50,
     "metadata": {},
     "output_type": "execute_result"
    }
   ],
   "source": [
    "atoe.s_prev"
   ]
  },
  {
   "cell_type": "code",
   "execution_count": null,
   "metadata": {},
   "outputs": [],
   "source": []
  }
 ],
 "metadata": {
  "kernelspec": {
   "display_name": "Python 3",
   "language": "python",
   "name": "python3"
  },
  "language_info": {
   "codemirror_mode": {
    "name": "ipython",
    "version": 3
   },
   "file_extension": ".py",
   "mimetype": "text/x-python",
   "name": "python",
   "nbconvert_exporter": "python",
   "pygments_lexer": "ipython3",
   "version": "3.7.2"
  }
 },
 "nbformat": 4,
 "nbformat_minor": 2
}
