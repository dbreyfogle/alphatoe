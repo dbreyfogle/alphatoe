{
 "cells": [
  {
   "cell_type": "code",
   "execution_count": 1,
   "metadata": {},
   "outputs": [],
   "source": [
    "import numpy as np\n",
    "import random\n",
    "import json"
   ]
  },
  {
   "cell_type": "code",
   "execution_count": 11,
   "metadata": {},
   "outputs": [],
   "source": [
    "class Environment(): # Tic-tac-toe board\n",
    "    \n",
    "    def __init__(self):\n",
    "        \"\"\"Setup a 3 x 3 board as an array.\n",
    "        ' ' ~ 0\n",
    "        'X' ~ 1\n",
    "        'O' ~ -1\n",
    "        \"\"\"\n",
    "        self.state = np.zeros((3, 3))\n",
    "        self.turn = 1 # Keep track who's turn it is (X first)\n",
    "        \n",
    "    def reset(self):\n",
    "        \"\"\"Resets to empty\"\"\"\n",
    "        self.state = np.zeros((3, 3))\n",
    "        \n",
    "    def get_state(self):\n",
    "        \"\"\"Return the current state\"\"\"\n",
    "        return self.state\n",
    "        \n",
    "    def set_state(self, state):\n",
    "        \"\"\"Set the current state\"\"\"\n",
    "        self.state = state\n",
    "    \n",
    "    def display(self, state=None):\n",
    "        \"\"\"\n",
    "            1   2   3\n",
    "          *---*---*---*\n",
    "        1 | X | O | X |\n",
    "          *---*---*---*\n",
    "        2 |   | X | O |\n",
    "          *---*---*---*\n",
    "        3 | X |   | O |\n",
    "          *---*---*---*\n",
    "        \"\"\"\n",
    "        if not state: state = self.state\n",
    "        to_txt = {0: ' ', 1: 'X', -1: 'O'} \n",
    "        print('    1   2   3')\n",
    "        print('  *---*---*---*')\n",
    "        for row in range(3):\n",
    "            row_str = f'{row+1} | '\n",
    "            for col in range(3):\n",
    "                mark = state[row, col]\n",
    "                row_str += f'{to_txt[mark]} | '\n",
    "            print(row_str)\n",
    "            print('  *---*---*---*')\n",
    "            \n",
    "    def get_actions(self, state=None):\n",
    "        \"\"\"Return a list of actions that can be taken in the state, i.e.\n",
    "        indices of empty spaces (row, col)\n",
    "        \"\"\"\n",
    "        if not state: state = self.state\n",
    "        s = []\n",
    "        for row in range(3):\n",
    "            for col in range(3):\n",
    "                if state[row, col] == 0:\n",
    "                    s.append((row, col))\n",
    "        return s\n",
    "\n",
    "    def get_rewards(self, state=None, turn=None):\n",
    "        \"\"\"Return the reward for given player at the given state\"\"\"\n",
    "        if not state: state = self.state\n",
    "        if not turn: turn = self.turn\n",
    "        for i in range(goal):\n",
    "            this_row_sum = np.sum(state[i, :])\n",
    "            this_col_sum = np.sum(state[:, i])\n",
    "            if this_row_sum == goal or this_col_sum == goal:\n",
    "                return mark\n",
    "        diag1_sum = np.trace(state)\n",
    "        diag2_sum = np.trace(np.fliplr(state))\n",
    "        if diag1_sum == goal or diag2_sum == goal:\n",
    "            return mark\n",
    "        return 0\n",
    "    \n",
    "    def is_full(self):\n",
    "        \"\"\"Checks if the board is full\"\"\"\n",
    "        for row in range(3):\n",
    "            for col in range(3):\n",
    "                if self.state[row, col] == 0: # Any empty space\n",
    "                    return False\n",
    "        return True\n",
    "    \n",
    "    def step(self, action):\n",
    "        \"\"\"Udpate our state with an action and return:\n",
    "        \n",
    "        next state as numpy.array\n",
    "        reward\n",
    "        finished as boolean\n",
    "        \n",
    "        Only accepts valid actions on empty board spaces\n",
    "        \"\"\"\n",
    "        row, col = action[0], action[1]\n",
    "        self.state[row, col] = self.turn\n",
    "        reward = self.get_rewards(self.turn, self.state)\n",
    "        finished = False\n",
    "        if reward or self.is_full():\n",
    "            finished = True\n",
    "        self.turn *= -1\n",
    "        return self.state, reward, finished"
   ]
  },
  {
   "cell_type": "code",
   "execution_count": 12,
   "metadata": {},
   "outputs": [],
   "source": [
    "env = Environment()"
   ]
  },
  {
   "cell_type": "code",
   "execution_count": 13,
   "metadata": {},
   "outputs": [
    {
     "data": {
      "text/plain": [
       "[(0, 0), (0, 1), (0, 2), (1, 0), (1, 1), (1, 2), (2, 0), (2, 1), (2, 2)]"
      ]
     },
     "execution_count": 13,
     "metadata": {},
     "output_type": "execute_result"
    }
   ],
   "source": [
    "env.get_actions()"
   ]
  },
  {
   "cell_type": "code",
   "execution_count": 14,
   "metadata": {},
   "outputs": [],
   "source": [
    "env.set_state(np.zeros((3,3)) + 1)"
   ]
  },
  {
   "cell_type": "code",
   "execution_count": 15,
   "metadata": {},
   "outputs": [
    {
     "data": {
      "text/plain": [
       "array([[1., 1., 1.],\n",
       "       [1., 1., 1.],\n",
       "       [1., 1., 1.]])"
      ]
     },
     "execution_count": 15,
     "metadata": {},
     "output_type": "execute_result"
    }
   ],
   "source": [
    "env.get_state()"
   ]
  },
  {
   "cell_type": "code",
   "execution_count": 16,
   "metadata": {},
   "outputs": [
    {
     "name": "stdout",
     "output_type": "stream",
     "text": [
      "    1   2   3\n",
      "  *---*---*---*\n",
      "1 | X | X | X | \n",
      "  *---*---*---*\n",
      "2 | X | X | X | \n",
      "  *---*---*---*\n",
      "3 | X | X | X | \n",
      "  *---*---*---*\n"
     ]
    }
   ],
   "source": [
    "env.display()"
   ]
  },
  {
   "cell_type": "code",
   "execution_count": null,
   "metadata": {},
   "outputs": [],
   "source": []
  }
 ],
 "metadata": {
  "kernelspec": {
   "display_name": "Python 3",
   "language": "python",
   "name": "python3"
  },
  "language_info": {
   "codemirror_mode": {
    "name": "ipython",
    "version": 3
   },
   "file_extension": ".py",
   "mimetype": "text/x-python",
   "name": "python",
   "nbconvert_exporter": "python",
   "pygments_lexer": "ipython3",
   "version": "3.7.2"
  }
 },
 "nbformat": 4,
 "nbformat_minor": 2
}
